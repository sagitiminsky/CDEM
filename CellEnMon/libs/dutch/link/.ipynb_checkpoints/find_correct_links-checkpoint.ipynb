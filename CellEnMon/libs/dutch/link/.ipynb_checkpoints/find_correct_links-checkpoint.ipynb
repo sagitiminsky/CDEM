{
 "cells": [
  {
   "cell_type": "code",
   "execution_count": 1,
   "id": "182b17db",
   "metadata": {},
   "outputs": [],
   "source": [
    "import os"
   ]
  },
  {
   "cell_type": "code",
   "execution_count": 2,
   "id": "2f93bbed",
   "metadata": {},
   "outputs": [],
   "source": [
    "path_to_raw=\"/home/ec2-user/SageMaker/Rain_Estimation_Using_Loosely_Matched_Stations/CellEnMon/datasets/dme/09062011_13082011/raw\"\n",
    "path_to_raw2=\"/home/ec2-user/SageMaker/Rain_Estimation_Using_Loosely_Matched_Stations/CellEnMon/datasets/dme/09062011_13082011/raw2\"\n"
   ]
  },
  {
   "cell_type": "code",
   "execution_count": 6,
   "id": "5b3f5c8e",
   "metadata": {},
   "outputs": [],
   "source": [
    "from turfpy.measurement import boolean_point_in_polygon\n",
    "from geojson import Point, Polygon, Feature\n",
    "import shutil\n",
    "\n",
    "polygon = Polygon(\n",
    "    [\n",
    "        [\n",
    "            (5.256878, 51.807393),# Zaltbommel (5.145,51.857), #356 \n",
    "            (5.387352, 52.162127), #Randenbroek (5.180,52.097), #260\n",
    "            (4.998392, 52.173217),# Breukelen, (5.180,52.097), #260\n",
    "            (4.708564, 52.012261),# gouda, (4.926,51.968), #348\n",
    "            (4.975387, 51.841822) #grinchem (4.926,51.968), #356\n",
    "        ]\n",
    "    ]\n",
    ")\n",
    "\n",
    "for link in os.listdir(path_to_raw2):\n",
    "    if link!=\".ipynb_checkpoints\":\n",
    "        T,XStart,YStart,R,XEnd,YEnd=link.split(\"_\")\n",
    "\n",
    "        YEnd=YEnd.replace(\".csv\",\"\")\n",
    "        YStart=float(YStart)\n",
    "        YEnd=float(YEnd)\n",
    "        YCenter=(YStart+YEnd)/2\n",
    "\n",
    "        XStart=float(XStart)\n",
    "        XEnd=float(XEnd)\n",
    "        XCenter=(XStart+XEnd)/2\n",
    "\n",
    "        point = Feature(geometry=Point((YCenter, XCenter)))\n",
    "\n",
    "        if boolean_point_in_polygon(point, polygon):\n",
    "            shutil.move(f\"{path_to_raw2}/{link}\", f\"{path_to_raw}/{link}\")"
   ]
  },
  {
   "cell_type": "code",
   "execution_count": null,
   "id": "b0f53048",
   "metadata": {},
   "outputs": [],
   "source": []
  }
 ],
 "metadata": {
  "kernelspec": {
   "display_name": "conda_python3",
   "language": "python",
   "name": "conda_python3"
  },
  "language_info": {
   "codemirror_mode": {
    "name": "ipython",
    "version": 3
   },
   "file_extension": ".py",
   "mimetype": "text/x-python",
   "name": "python",
   "nbconvert_exporter": "python",
   "pygments_lexer": "ipython3",
   "version": "3.10.6"
  }
 },
 "nbformat": 4,
 "nbformat_minor": 5
}
